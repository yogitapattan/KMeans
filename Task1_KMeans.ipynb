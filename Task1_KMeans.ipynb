{
 "cells": [
  {
   "cell_type": "markdown",
   "metadata": {},
   "source": [
    "# K Means Clustering"
   ]
  },
  {
   "cell_type": "code",
   "execution_count": 235,
   "metadata": {},
   "outputs": [],
   "source": [
    "import numpy as np\n",
    "import matplotlib.pyplot as plt"
   ]
  },
  {
   "cell_type": "markdown",
   "metadata": {},
   "source": [
    "Function to generate random points in the cartesian coordinate system."
   ]
  },
  {
   "cell_type": "code",
   "execution_count": 284,
   "metadata": {},
   "outputs": [],
   "source": [
    "def random_points():\n",
    "    \n",
    "    num_points = 80\n",
    "    x = np.random.randint(0,100,num_points*2)\n",
    "    points = np.array(x).reshape(num_points,2)\n",
    "    \n",
    "    return points\n"
   ]
  },
  {
   "cell_type": "markdown",
   "metadata": {},
   "source": [
    "Function to fix the number of clusters and initialize the clusters with random coordinates."
   ]
  },
  {
   "cell_type": "code",
   "execution_count": 237,
   "metadata": {},
   "outputs": [],
   "source": [
    "def init_K(points):\n",
    "    \n",
    "    K = int(input(\"Enter the number of centroids :\"))\n",
    "    initial_centroids = []\n",
    "    for i in range(K):   \n",
    "        initial_centroids = initial_centroids + list(points[i])\n",
    "    initial_centroids = np.array(initial_centroids).reshape(K,2)\n",
    "    \n",
    "    return K,initial_centroids\n"
   ]
  },
  {
   "cell_type": "markdown",
   "metadata": {},
   "source": [
    "This function finds the centroid for every point which is closer to it and assignes it with the corresponding cluster label."
   ]
  },
  {
   "cell_type": "code",
   "execution_count": 238,
   "metadata": {},
   "outputs": [],
   "source": [
    "def cluster_assignment(K,X,centroids):\n",
    "    \n",
    "    cluster_assigned = np.zeros(np.size(X,0))\n",
    "    for i in range(np.size(X,0)):        \n",
    "        distance =  [np.linalg.norm(np.array(X[i])-np.array(centroid)) for centroid in centroids]\n",
    "        cluster_assigned[i] = distance.index(min(distance))\n",
    "        \n",
    "    return cluster_assigned    \n",
    "    "
   ]
  },
  {
   "cell_type": "markdown",
   "metadata": {},
   "source": [
    "This function computes mean of the distances of every point from its corresponding cluster and moves the centroids to new positions."
   ]
  },
  {
   "cell_type": "code",
   "execution_count": 267,
   "metadata": {},
   "outputs": [],
   "source": [
    "def move_centroid(K,X,cluster_assigned):\n",
    "    \n",
    "    new_centroid = []\n",
    "    for i in range(K):\n",
    "        points = [X[j] for j in range(np.size(X,0)) if cluster_assigned[j] == i ]\n",
    "        new_centroid = new_centroid + list(np.mean(points,axis = 0))\n",
    "    new_centroid = np.array(new_centroid).reshape(K,2)\n",
    "    \n",
    "    return (new_centroid)\n"
   ]
  },
  {
   "cell_type": "markdown",
   "metadata": {},
   "source": [
    "K Means algorithm consists of 2 main steps:"
   ]
  },
  {
   "cell_type": "markdown",
   "metadata": {},
   "source": [
    "Cluster Assignment step"
   ]
  },
  {
   "cell_type": "markdown",
   "metadata": {},
   "source": [
    "Move Centroid step"
   ]
  },
  {
   "cell_type": "markdown",
   "metadata": {},
   "source": [
    "These steps are repeated for the given number of iterations till clusters are formed."
   ]
  },
  {
   "cell_type": "code",
   "execution_count": null,
   "metadata": {},
   "outputs": [],
   "source": [
    "def K_means(X):\n",
    "    \n",
    "    iterations = 10\n",
    "    K,centroids = init_K(X)\n",
    "    for i in range(iterations):\n",
    "        cluster_assigned = cluster_assignment(K,X,centroids)\n",
    "        centroids = move_centroid(K,X,cluster_assigned)\n",
    "        \n",
    "    return centroids,cluster_assigned,K\n",
    "        "
   ]
  },
  {
   "cell_type": "markdown",
   "metadata": {},
   "source": [
    "Function to find the closest cluster to a given point and return it's cluster label."
   ]
  },
  {
   "cell_type": "code",
   "execution_count": 286,
   "metadata": {},
   "outputs": [],
   "source": [
    "def find_close_cluster(point,centroids):\n",
    "    \n",
    "    X = np.array(point)\n",
    "   \n",
    "    dist = [np.linalg.norm(X-np.array(centroid)) for centroid in centroids]\n",
    "    cluster_label = dist.index(min(dist))\n",
    "    \n",
    "    return cluster_label"
   ]
  },
  {
   "cell_type": "markdown",
   "metadata": {},
   "source": [
    "Random points are generated. The scattered plt displays the points int the cartesian plane.\n",
    "K number of clusters are formed by running the K Means algorithm on the given points.\n",
    "The final plot shows K clusters formed."
   ]
  },
  {
   "cell_type": "code",
   "execution_count": 298,
   "metadata": {},
   "outputs": [
    {
     "name": "stdout",
     "output_type": "stream",
     "text": [
      "Enter the number of centroids :4\n",
      "The centroid coordinates : \n",
      "[[44.5625     67.625     ]\n",
      " [70.91304348 18.34782609]\n",
      " [81.94444444 76.72222222]\n",
      " [14.91304348 49.82608696]]\n"
     ]
    },
    {
     "data": {
      "text/plain": [
       "<matplotlib.collections.PathCollection at 0x1bc33448b00>"
      ]
     },
     "execution_count": 298,
     "metadata": {},
     "output_type": "execute_result"
    },
    {
     "data": {
      "image/png": "[encoded data removed]",
      "text/plain": [
       "<Figure size 432x288 with 1 Axes>"
      ]
     },
     "metadata": {},
     "output_type": "display_data"
    },
    {
     "data": {
      "image/png": "[encoded data removed]",
      "text/plain": [
       "<Figure size 432x288 with 1 Axes>"
      ]
     },
     "metadata": {},
     "output_type": "display_data"
    }
   ],
   "source": [
    "X = random_points()\n",
    "plt.scatter(X[:,0],X[:,1],s=10,c='black')\n",
    "plt.title(\"Original Unclustered Data\")\n",
    "\n",
    "centroids,cluster_assigned,K = K_means(X)\n",
    "print(\"The centroid coordinates : \")\n",
    "print(centroids)\n",
    "\n",
    "fig,ax = plt.subplots()\n",
    "plt.title(\"Clustered Data\")\n",
    "color = ['r','g','b','c','y','m','r','g','b','c','y','m']\n",
    "\n",
    "for i in range(K):\n",
    "    points = np.array([X[j] for j in range(np.size(X,0)) if cluster_assigned[j] == i ])\n",
    "    points = points.reshape(points.shape[0],2)\n",
    "    plt.scatter(points[:,0],points[:,1],c=color[i],s=10)\n",
    "    \n",
    "plt.scatter(centroids[:,0],centroids[:,1],marker = '*',c='black')\n"
   ]
  },
  {
   "cell_type": "code",
   "execution_count": 300,
   "metadata": {},
   "outputs": [
    {
     "name": "stdout",
     "output_type": "stream",
     "text": [
      "Enter a point :80,65\n",
      "Cluster label assigned to given point :  2\n"
     ]
    }
   ],
   "source": [
    "point = input(\"Enter a point :\").split(\",\")\n",
    "close_cluster = find_close_cluster(list(map(int,point)),centroids)\n",
    "print(\"Cluster label assigned to given point : \",close_cluster)"
   ]
  },
  {
   "cell_type": "code",
   "execution_count": null,
   "metadata": {},
   "outputs": [],
   "source": []
  }
 ],
 "metadata": {
  "kernelspec": {
   "display_name": "Python 3",
   "language": "python",
   "name": "python3"
  },
  "language_info": {
   "codemirror_mode": {
    "name": "ipython",
    "version": 3
   },
   "file_extension": ".py",
   "mimetype": "text/x-python",
   "name": "python",
   "nbconvert_exporter": "python",
   "pygments_lexer": "ipython3",
   "version": "3.6.5"
  }
 },
 "nbformat": 4,
 "nbformat_minor": 2
}
